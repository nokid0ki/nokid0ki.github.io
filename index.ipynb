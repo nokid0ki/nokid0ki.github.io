{
  "cells": [
    {
      "cell_type": "raw",
      "metadata": {},
      "source": [
        "---\n",
        "title: \"Hi there!\"\n",
        "about:\n",
        "  template: trestles\n",
        "  image: \"me3.png\"\n",
        "  links:\n",
        "    - icon: linkedin\n",
        "      text: Linkedin\n",
        "      href: https://www.linkedin.com/in/niki-hartono/\n",
        "    - icon: github\n",
        "      text: Github\n",
        "      href: https://github.com/nokid0ki\n",
        "---"
      ],
      "id": "69978d67"
    },
    {
      "cell_type": "markdown",
      "metadata": {},
      "source": [
        "```{css, echo = FALSE}\n",
        ".justify {\n",
        "  text-align: justify !important\n",
        "}\n",
        "```\n",
        "\n",
        "\n",
        "## About me\n",
        "::: {.justify}\n",
        "My name is Niki! I enjoy digital art, cooking, and exploring the outdoors. I joined this module to kick start coding.\n",
        "\n",
        "My weekly R submissions can be found by clicking on the tab in navigation bar above.\n",
        "\n",
        "Thank you for coming to my site!\n",
        "\n",
        ":::\n"
      ],
      "id": "e575a355"
    }
  ],
  "metadata": {
    "kernelspec": {
      "display_name": "Python 3",
      "language": "python",
      "name": "python3"
    }
  },
  "nbformat": 4,
  "nbformat_minor": 5
}